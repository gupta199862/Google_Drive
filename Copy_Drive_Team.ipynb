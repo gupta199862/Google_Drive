{
  "nbformat": 4,
  "nbformat_minor": 0,
  "metadata": {
    "colab": {
      "name": "Copy of Copy Drive Teamv4.3.ipynb",
      "provenance": [],
      "collapsed_sections": [],
      "include_colab_link": true
    },
    "kernelspec": {
      "name": "python3",
      "display_name": "Python 3"
    }
  },
  "cells": [
    {
      "cell_type": "markdown",
      "metadata": {
        "id": "view-in-github",
        "colab_type": "text"
      },
      "source": [
        "<a href=\"https://colab.research.google.com/github/rappergi/Audio/blob/master/Copy_Drive_Team.ipynb\" target=\"_parent\"><img src=\"https://colab.research.google.com/assets/colab-badge.svg\" alt=\"Open In Colab\"/></a>"
      ]
    },
    {
      "cell_type": "markdown",
      "metadata": {
        "id": "V2w7tWhPhbTB",
        "colab_type": "text"
      },
      "source": [
        "<a href=\"https://github.com/totalleecher/Codemaster\">\n",
        "<img src=\"https://lh3.googleusercontent.com/1pw-tHjrkmMgnr63nxOQStYnpVkieXKP9-1RafDRtHBAQ65cN7GcsNKf4k0rWsB--W8d\" height=100px, align=\"left\"></a>\n",
        "\n",
        "\n",
        "\n",
        "\n",
        "\n",
        "\n",
        "\n",
        "\n",
        "\n",
        "\n",
        "\n",
        "<center><h3>Modified by <a href=\"https://t.me/RapperGi\">Eric Li - Trans : Giang IT</a></h1><h1>Copy File Từ Folder Share vào Team Drive Không Bị Giới Hạn 750GB"
      ]
    },
    {
      "cell_type": "markdown",
      "metadata": {
        "id": "Cqy3vXXOMI06",
        "colab_type": "text"
      },
      "source": [
        "### <font size=5px color=\"red\">✦ *Google Colab Sẽ Tự Động Ngắt Kết Nối Sau 90 Phút :</font>\n",
        "<p><font size=3px > Tự động chạy mã này thì cứ sau 60 phút sẽ làm mới giới hạn ngắt kết nối 90 phút. Bật chế độ \"developer-settings\" (Trong trình duyệt của bạn) Phím tắt Ctrl+Shift+I tìm đến Tab \"console\" dán dòng lệnh ở dưới rồi Enter. ( với MAC : Option+Command+I)</p><b>Sao chép code ở dưới rồi dán vào console！！Không được tắt trình duyệt web</b>"
      ]
    },
    {
      "cell_type": "markdown",
      "metadata": {
        "id": "3Z8cK8h2Avbv",
        "colab_type": "text"
      },
      "source": [
        "<code>function ClickConnect(){\n",
        "console.log(\"Working\"); \n",
        "document.querySelector(\"colab-connect-button\").click() \n",
        "}setInterval(ClickConnect,6000)</code>"
      ]
    },
    {
      "cell_type": "code",
      "metadata": {
        "id": "jtClEMAMLVHw",
        "colab_type": "code",
        "cellView": "form",
        "colab": {}
      },
      "source": [
        "#@markdown <h3>← Chạy sau khi nhập dòng lệnh để ngăn chặn ngắt kết nối giới hạn 90 Phút Của Colab</h>\n",
        "\n",
        "\n",
        "import IPython\n",
        "from google.colab import output\n",
        "\n",
        "display(IPython.display.Javascript('''\n",
        " function ClickConnect(){\n",
        "   btn = document.querySelector(\"colab-connect-button\")\n",
        "   if (btn != null){\n",
        "     console.log(\"Click colab-connect-button\"); \n",
        "     btn.click() \n",
        "     }\n",
        "   \n",
        "   btn = document.getElementById('ok')\n",
        "   if (btn != null){\n",
        "     console.log(\"Click reconnect\"); \n",
        "     btn.click() \n",
        "     }\n",
        "  }\n",
        "  \n",
        "setInterval(ClickConnect,60000)\n",
        "'''))\n",
        "\n",
        "print(\"Done.\")"
      ],
      "execution_count": null,
      "outputs": []
    },
    {
      "cell_type": "markdown",
      "metadata": {
        "colab_type": "text",
        "id": "nnK31oX-jC5p"
      },
      "source": [
        "### <img src='https://rclone.org/img/rclone-32x32.png' height=\"46\" alt=\"rclone\"/>__Autorclone__\n",
        "<font size=3px><b> ✧ Copy File Không Giới Hạn 750Gb</h6>\n"
      ]
    },
    {
      "cell_type": "code",
      "metadata": {
        "colab_type": "code",
        "cellView": "form",
        "id": "W61wx2ZLjC52",
        "colab": {}
      },
      "source": [
        "#@markdown <h3><b>←</b> Bước 1 : Cài đặt Rclone</h3>\n",
        "\n",
        "!curl https://rclone.org/install.sh | sudo bash\n",
        "###\n",
        "%cd /content/\n",
        "!git clone https://github.com/totalleecher/AutoRclone.git\n",
        "###\n",
        "%cd /content/AutoRclone\n",
        "!sudo pip3 install -r requirements.txt\n",
        "\n",
        "from IPython.display import HTML, clear_output\n",
        "clear_output()\n",
        "print(\"Successfully Installed\")"
      ],
      "execution_count": null,
      "outputs": []
    },
    {
      "cell_type": "code",
      "metadata": {
        "colab_type": "code",
        "cellView": "form",
        "id": "XbcSRo0RjC6P",
        "colab": {}
      },
      "source": [
        "#@markdown <h3><b>←</b> Bước 2 : Enable Drive Api & Tải Xuống Tệp credentials.json</h3>\n",
        "!python3 gen_sa_accounts.py --quick-setup -1\n",
        "\n",
        "from IPython.display import Image, display\n",
        "display(Image(url = \"https://s3.us-east-2.amazonaws.com/upload-icon/uploads/icons/png/4877197251571661812-512.png\"))"
      ],
      "execution_count": null,
      "outputs": []
    },
    {
      "cell_type": "code",
      "metadata": {
        "colab_type": "code",
        "cellView": "form",
        "id": "N8fETzRpjC6s",
        "colab": {
          "resources": {
            "http://localhost:8080/nbextensions/google.colab/files.js": {
              "data": "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",
              "ok": true,
              "headers": [
                [
                  "content-type",
                  "application/javascript"
                ]
              ],
              "status": 200,
              "status_text": ""
            }
          },
          "base_uri": "https://localhost:8080/",
          "height": 72
        },
        "outputId": "7452e7c1-1791-439b-d131-4f1fb786a646"
      },
      "source": [
        "#@markdown <h3><b>←</b> Bước 3 : Upload File \"credentials.json\" Vừa Tải Xuống</h3>\n",
        "\n",
        "from google.colab import files\n",
        "uploaded = files.upload()"
      ],
      "execution_count": null,
      "outputs": [
        {
          "output_type": "display_data",
          "data": {
            "text/html": [
              "\n",
              "     <input type=\"file\" id=\"files-8bb72083-2959-4519-b6a2-a332006cbcef\" name=\"files[]\" multiple disabled\n",
              "        style=\"border:none\" />\n",
              "     <output id=\"result-8bb72083-2959-4519-b6a2-a332006cbcef\">\n",
              "      Upload widget is only available when the cell has been executed in the\n",
              "      current browser session. Please rerun this cell to enable.\n",
              "      </output>\n",
              "      <script src=\"/nbextensions/google.colab/files.js\"></script> "
            ],
            "text/plain": [
              "<IPython.core.display.HTML object>"
            ]
          },
          "metadata": {
            "tags": []
          }
        },
        {
          "output_type": "stream",
          "text": [
            "Saving credentials.json to credentials.json\n"
          ],
          "name": "stdout"
        }
      ]
    },
    {
      "cell_type": "code",
      "metadata": {
        "colab_type": "code",
        "cellView": "form",
        "id": "LMoXkToAjC69",
        "colab": {}
      },
      "source": [
        "#@markdown <h3><b>←</b> Bước 4 : Tạo \"Service Accounts (SA)\" Cho Project . \"Có thể bỏ qua Bước 4 & 5 nếu đã Có SA\". Nếu 100 SA Không Đủ Hãy Bỏ Qua Bước 5</h3>\n",
        "\n",
        "!python3 gen_sa_accounts.py --quick-setup -1"
      ],
      "execution_count": null,
      "outputs": []
    },
    {
      "cell_type": "code",
      "metadata": {
        "colab_type": "code",
        "cellView": "form",
        "id": "xIasBR9wZaMP",
        "colab": {}
      },
      "source": [
        "#@markdown <h3><b>←</b>Bước 5 :  Các dự án hiện tại, bạn cần tạo một \"nhập số dự án chính. Ví dụ: 5 đại diện cho tổng số 5 dự án và 500 SA，nên sử dụng googlegroups để quản lý</h3>\n",
        "\n",
        "numbers = \"1\" #@param [\"1\", \"2\", \"3\", \"4\", \"5\"]\n",
        "\n",
        "!python3 gen_sa_accounts.py --quick-setup \"$numbers\" --new-only"
      ],
      "execution_count": null,
      "outputs": []
    },
    {
      "cell_type": "markdown",
      "metadata": {
        "id": "vGIC3QKIIpfb",
        "colab_type": "text"
      },
      "source": [
        "<font size=\"4\" color=red><b>Nếu Bước 4 bị Fail,có thể bạn không có dự án nào. Bấm vào đây để mở <a href=\"https://console.developers.google.com/\" target=\"_blank\">Google Cloud Platform</a> ，Ở góc trên bên trái GoogleAPIs Nhấn chọn Select a project - Click \"New Project\" ở góc trên bên phải của cửa sổ bật lên. Sau đó nhấn CREATE. Quay lại và chạy bước thứ 4。</b></font>"
      ]
    },
    {
      "cell_type": "markdown",
      "metadata": {
        "colab_type": "text",
        "id": "eplOxOmrjC7R"
      },
      "source": [
        "### Cách 1 : (Tạo Services Account - Thêm vào Team Drive)"
      ]
    },
    {
      "cell_type": "code",
      "metadata": {
        "colab_type": "code",
        "cellView": "form",
        "id": "_-MmxPYFjC7W",
        "colab": {}
      },
      "source": [
        "#@markdown <h3><b>← Run để thêm tất cả SA vào Team Drive</b></h3>\n",
        "#@markdown </h5>Team Drive ID Có dạng (TDid) = https://drive.google.com/drive/folders/\" ID \"</code></h5>\n",
        "#@markdown <h5><b>Hãy kiên nhẫn đợi, tăng SA sẽ mất một chút thời gian</b></h5> \n",
        "import os\n",
        "TDid = \"\" #@param {type:\"string\"}\n",
        "!python3 add_to_team_drive.py -d \"$TDid\""
      ],
      "execution_count": null,
      "outputs": []
    },
    {
      "cell_type": "markdown",
      "metadata": {
        "id": "_cHHnNWPVILR",
        "colab_type": "text"
      },
      "source": [
        "### Cách 2 (Thêm SA vào Googlegroup để quản lý nhiều SA） **Giới Thiệu**"
      ]
    },
    {
      "cell_type": "code",
      "metadata": {
        "id": "m2cTTOFKX9g7",
        "colab_type": "code",
        "cellView": "form",
        "colab": {}
      },
      "source": [
        "#@markdown <h3><b>←</b>Sau khi chạy, nó sẽ tạo! Email.txt trong AutoRclone \\ Account đã tải.  Để tải xuống click vào đây để xem video hướng dẫn <a href=\"https://drive.google.com/drive/u/4/folders/1qyMiY-nHyQiUA0AESu0NddWavN5k1_Aj\" target=\"_blank\">Video 3 Google Groups</a>\n",
        "\n",
        "#@markdown *   Click vào <a href=\"https://groups.google.com/d/homeredir\" target=\"_blank\">Google groups</a> sau đó click CREATE GROUP... Đặt tên bạn muốn và nhấn CREATE . Để mở tệp <code>!emails.txt</code> - <b>Xem Video 3 Và thực hiện</b> [Giới hạn Googlegroup chỉ có thể thêm 10 SA/1 lần, chúng ta phải lặp lại 10 lần, tối đa là 100 mỗi ngày]\n",
        "#@markdown *   Thêm các nhóm Google mà bạn vừa tạo vào Drive Team dữ liệu sẽ được sao chép. Nếu bạn muốn sao chép, hãy thêm cả hai Drive Team.\n",
        "#@markdown *   Cảm ơn @Roshanconnor đã cho gợi ý。\n",
        "%cd /content/AutoRclone/accounts/\n",
        "!grep -oPh '\"client_email\": \"\\K[^\"]+' *.json > !emails.txt\n"
      ],
      "execution_count": null,
      "outputs": []
    },
    {
      "cell_type": "markdown",
      "metadata": {
        "id": "XCiA0yRMxM5T",
        "colab_type": "text"
      },
      "source": [
        "### **<font size=5px color=bule><<<<<<<<<<<<<<<<<<<<Tất Cả Đã Sẵn Sàng Để Copy File>>>>>>>>>>>>>>>>>>>>**"
      ]
    },
    {
      "cell_type": "code",
      "metadata": {
        "colab_type": "code",
        "cellView": "form",
        "id": "ItewOXbSjC7r",
        "colab": {
          "base_uri": "https://localhost:8080/",
          "height": 853
        },
        "outputId": "910ecb6d-6c9c-4272-f936-9142b500ef1e"
      },
      "source": [
        "#@markdown <p>- <b> Thêm ID thư mục gốc （Đã được chia sẻ） và ID thư mục đích （Team Drive）</p>\n",
        "#@markdown <p>- Lưu Ý: ID thư mục gốc (*`src`*) phải là thư mục đã được chia sẻ công khai (public)</p>\n",
        "\n",
        "#@markdown <b>- ID Của Thư Mục Team Drive Sẽ Được Lấy Theo Hình Bên </b>\n",
        "#@markdown ![](https://yuju.pw/y/qNvy.png)\n",
        "\n",
        "#@title <h3><b>←</b> Run to clone all folders + files from <code>src</code> to <code>dest</code>\n",
        "\n",
        "source = \"1ga2P7ochwkDnK3lubZ7lE8oSAiZV6VoL\" #@param {type:\"string\"}\n",
        "destination = \"1xxBkQaJHmuFD-zvpgfrprj2Btfhx1Mrn\" #@param {type:\"string\"}\n",
        "sa = \"1\" #@param {type:\"string\"}\n",
        "\n",
        "!python3 rclone_sa_magic.py -s \"$source\" -d \"$destination\" -b \"$sa\" -e 600\n",
        "\n",
        "#@markdown <b>-  SA Mặc định là 1 . Nếu đã sao chép 7.5TB trước đó trong 24H thì nên đặt SA = 11 (1 SA = 750GB).\n",
        "\n"
      ],
      "execution_count": null,
      "outputs": [
        {
          "output_type": "stream",
          "text": [
            "rclone is detected: /usr/bin/rclone\n",
            "generating rclone config file.\n",
            "rclone config file generated.\n",
            "Start: 09:20:41\n",
            "rclone --config ./rclone.conf copy --drive-server-side-across-configs --rc --rc-addr=\"localhost:5572\" -vv --ignore-existing --tpslimit 3 --transfers 3 --drive-chunk-size 32M --drive-acknowledge-abuse --log-file=log_rclone.txt \"src001:\" \"dst001:\" &\n",
            ">> Let us go dst001: 09:20:41\n",
            "dst001: 736GB Done @ 8501.503979MB/s | checks: 0 files\n",
            "                     09:30:51\n",
            "\n",
            "\n",
            "rclone --config ./rclone.conf copy --drive-server-side-across-configs --rc --rc-addr=\"localhost:5572\" -vv --ignore-existing --tpslimit 3 --transfers 3 --drive-chunk-size 32M --drive-acknowledge-abuse --log-file=log_rclone.txt \"src002:\" \"dst002:\" &\n",
            ">> Let us go dst002: 09:30:51\n",
            "dst002: 736GB Done @ 9521.161478MB/s | checks: 369 files\n",
            "                     09:39:33\n",
            "\n",
            "\n",
            "rclone --config ./rclone.conf copy --drive-server-side-across-configs --rc --rc-addr=\"localhost:5572\" -vv --ignore-existing --tpslimit 3 --transfers 3 --drive-chunk-size 32M --drive-acknowledge-abuse --log-file=log_rclone.txt \"src003:\" \"dst003:\" &\n",
            ">> Let us go dst003: 09:39:33\n",
            "dst003: 738GB Done @ 3440.696521MB/s | checks: 913 files\n",
            "                     09:51:42\n",
            "\n",
            "\n",
            "rclone --config ./rclone.conf copy --drive-server-side-across-configs --rc --rc-addr=\"localhost:5572\" -vv --ignore-existing --tpslimit 3 --transfers 3 --drive-chunk-size 32M --drive-acknowledge-abuse --log-file=log_rclone.txt \"src004:\" \"dst004:\" &\n",
            ">> Let us go dst004: 09:51:42\n",
            "dst004: 736GB Done @ 8810.167851MB/s | checks: 1115 files\n",
            "                     10:05:20\n",
            "\n",
            "\n",
            "rclone --config ./rclone.conf copy --drive-server-side-across-configs --rc --rc-addr=\"localhost:5572\" -vv --ignore-existing --tpslimit 3 --transfers 3 --drive-chunk-size 32M --drive-acknowledge-abuse --log-file=log_rclone.txt \"src005:\" \"dst005:\" &\n",
            ">> Let us go dst005: 10:05:20\n",
            "dst005: 736GB Done @ 8582.036487MB/s | checks: 2064 files\n",
            "                     10:15:48\n",
            "\n",
            "\n",
            "rclone --config ./rclone.conf copy --drive-server-side-across-configs --rc --rc-addr=\"localhost:5572\" -vv --ignore-existing --tpslimit 3 --transfers 3 --drive-chunk-size 32M --drive-acknowledge-abuse --log-file=log_rclone.txt \"src006:\" \"dst006:\" &\n",
            ">> Let us go dst006: 10:15:48\n",
            "dst006: 736GB Done @ 6631.363459MB/s | checks: 2476 files\n",
            "                     10:29:26\n",
            "\n",
            "\n",
            "rclone --config ./rclone.conf copy --drive-server-side-across-configs --rc --rc-addr=\"localhost:5572\" -vv --ignore-existing --tpslimit 3 --transfers 3 --drive-chunk-size 32M --drive-acknowledge-abuse --log-file=log_rclone.txt \"src007:\" \"dst007:\" &\n",
            ">> Let us go dst007: 10:29:26\n",
            "dst007: 737GB Done @ 7957.679990MB/s | checks: 2955 files\n",
            "                     10:36:51\n",
            "\n",
            "\n",
            "rclone --config ./rclone.conf copy --drive-server-side-across-configs --rc --rc-addr=\"localhost:5572\" -vv --ignore-existing --tpslimit 3 --transfers 3 --drive-chunk-size 32M --drive-acknowledge-abuse --log-file=log_rclone.txt \"src008:\" \"dst008:\" &\n",
            ">> Let us go dst008: 10:36:51\n",
            "dst008: 735GB Done @ 8402.189283MB/s | checks: 3148 files\n",
            "                     11:14:02\n",
            "\n",
            "\n",
            "rclone --config ./rclone.conf copy --drive-server-side-across-configs --rc --rc-addr=\"localhost:5572\" -vv --ignore-existing --tpslimit 3 --transfers 3 --drive-chunk-size 32M --drive-acknowledge-abuse --log-file=log_rclone.txt \"src009:\" \"dst009:\" &\n",
            ">> Let us go dst009: 11:14:02\n",
            "dst009: 736GB Done @ 7065.361753MB/s | checks: 3922 files\n",
            "                     11:34:58\n",
            "\n",
            "\n",
            "rclone --config ./rclone.conf copy --drive-server-side-across-configs --rc --rc-addr=\"localhost:5572\" -vv --ignore-existing --tpslimit 3 --transfers 3 --drive-chunk-size 32M --drive-acknowledge-abuse --log-file=log_rclone.txt \"src010:\" \"dst010:\" &\n",
            ">> Let us go dst010: 11:34:58\n",
            "dst010: 737GB Done @ 8792.510287MB/s | checks: 5084 files\n",
            "                     11:53:00\n",
            "\n",
            "\n",
            "rclone --config ./rclone.conf copy --drive-server-side-across-configs --rc --rc-addr=\"localhost:5572\" -vv --ignore-existing --tpslimit 3 --transfers 3 --drive-chunk-size 32M --drive-acknowledge-abuse --log-file=log_rclone.txt \"src011:\" \"dst011:\" &\n",
            ">> Let us go dst011: 11:53:00\n",
            "dst011: 726GB Done @ 2303.956997MB/s | checks: 5450 files\n",
            "                     12:16:55\n",
            "\n",
            "\n",
            "rclone --config ./rclone.conf copy --drive-server-side-across-configs --rc --rc-addr=\"localhost:5572\" -vv --ignore-existing --tpslimit 3 --transfers 3 --drive-chunk-size 32M --drive-acknowledge-abuse --log-file=log_rclone.txt \"src012:\" \"dst012:\" &\n",
            ">> Let us go dst012: 12:16:55\n",
            "dst012: 738GB Done @ 8748.313843MB/s | checks: 5854 files\n",
            "                     12:37:05\n",
            "\n",
            "\n",
            "rclone --config ./rclone.conf copy --drive-server-side-across-configs --rc --rc-addr=\"localhost:5572\" -vv --ignore-existing --tpslimit 3 --transfers 3 --drive-chunk-size 32M --drive-acknowledge-abuse --log-file=log_rclone.txt \"src013:\" \"dst013:\" &\n",
            ">> Let us go dst013: 12:37:05\n",
            "dst013: 737GB Done @ 7405.602176MB/s | checks: 5932 files\n",
            "                     12:58:06\n",
            "\n",
            "\n",
            "rclone --config ./rclone.conf copy --drive-server-side-across-configs --rc --rc-addr=\"localhost:5572\" -vv --ignore-existing --tpslimit 3 --transfers 3 --drive-chunk-size 32M --drive-acknowledge-abuse --log-file=log_rclone.txt \"src014:\" \"dst014:\" &\n",
            ">> Let us go dst014: 12:58:06\n",
            "dst014: 737GB Done @ 17441.197336MB/s | checks: 4944 files\n",
            "                     13:10:35\n",
            "\n",
            "\n",
            "rclone --config ./rclone.conf copy --drive-server-side-across-configs --rc --rc-addr=\"localhost:5572\" -vv --ignore-existing --tpslimit 3 --transfers 3 --drive-chunk-size 32M --drive-acknowledge-abuse --log-file=log_rclone.txt \"src015:\" \"dst015:\" &\n",
            ">> Let us go dst015: 13:10:35\n",
            "dst015: 730GB Done @ 2538.127252MB/s | checks: 6135 files\n",
            "                     13:35:38\n",
            "\n",
            "\n",
            "rclone --config ./rclone.conf copy --drive-server-side-across-configs --rc --rc-addr=\"localhost:5572\" -vv --ignore-existing --tpslimit 3 --transfers 3 --drive-chunk-size 32M --drive-acknowledge-abuse --log-file=log_rclone.txt \"src016:\" \"dst016:\" &\n",
            ">> Let us go dst016: 13:35:38\n",
            "dst016: 737GB Done @ 2350.566452MB/s | checks: 4935 files\n",
            "                     13:53:53\n",
            "\n",
            "\n",
            "rclone --config ./rclone.conf copy --drive-server-side-across-configs --rc --rc-addr=\"localhost:5572\" -vv --ignore-existing --tpslimit 3 --transfers 3 --drive-chunk-size 32M --drive-acknowledge-abuse --log-file=log_rclone.txt \"src017:\" \"dst017:\" &\n",
            ">> Let us go dst017: 13:53:53\n",
            "dst017: 735GB Done @ 6874.275302MB/s | checks: 6015 files\n",
            "                     14:11:14\n",
            "\n",
            "\n",
            "rclone --config ./rclone.conf copy --drive-server-side-across-configs --rc --rc-addr=\"localhost:5572\" -vv --ignore-existing --tpslimit 3 --transfers 3 --drive-chunk-size 32M --drive-acknowledge-abuse --log-file=log_rclone.txt \"src018:\" \"dst018:\" &\n",
            ">> Let us go dst018: 14:11:14\n",
            "dst018: 735GB Done @ 12635.522955MB/s | checks: 6296 files\n",
            "                     14:35:51\n",
            "\n",
            "\n",
            "rclone --config ./rclone.conf copy --drive-server-side-across-configs --rc --rc-addr=\"localhost:5572\" -vv --ignore-existing --tpslimit 3 --transfers 3 --drive-chunk-size 32M --drive-acknowledge-abuse --log-file=log_rclone.txt \"src019:\" \"dst019:\" &\n",
            ">> Let us go dst019: 14:35:51\n",
            "dst019: 735GB Done @ 5883.194254MB/s | checks: 6802 files\n",
            "                     15:02:22\n",
            "\n",
            "\n",
            "rclone --config ./rclone.conf copy --drive-server-side-across-configs --rc --rc-addr=\"localhost:5572\" -vv --ignore-existing --tpslimit 3 --transfers 3 --drive-chunk-size 32M --drive-acknowledge-abuse --log-file=log_rclone.txt \"src020:\" \"dst020:\" &\n",
            ">> Let us go dst020: 15:02:22\n",
            "dst020: 736GB Done @ 8343.076836MB/s | checks: 7361 files\n",
            "                     15:22:55\n",
            "\n",
            "\n",
            "rclone --config ./rclone.conf copy --drive-server-side-across-configs --rc --rc-addr=\"localhost:5572\" -vv --ignore-existing --tpslimit 3 --transfers 3 --drive-chunk-size 32M --drive-acknowledge-abuse --log-file=log_rclone.txt \"src021:\" \"dst021:\" &\n",
            ">> Let us go dst021: 15:22:55\n",
            "dst021: 736GB Done @ 7193.559032MB/s | checks: 8483 files\n",
            "                     15:42:00\n",
            "\n",
            "\n",
            "rclone --config ./rclone.conf copy --drive-server-side-across-configs --rc --rc-addr=\"localhost:5572\" -vv --ignore-existing --tpslimit 3 --transfers 3 --drive-chunk-size 32M --drive-acknowledge-abuse --log-file=log_rclone.txt \"src022:\" \"dst022:\" &\n",
            ">> Let us go dst022: 15:42:00\n",
            "dst022: 735GB Done @ 6151.983606MB/s | checks: 8457 files\n",
            "                     16:01:04\n",
            "\n",
            "\n",
            "rclone --config ./rclone.conf copy --drive-server-side-across-configs --rc --rc-addr=\"localhost:5572\" -vv --ignore-existing --tpslimit 3 --transfers 3 --drive-chunk-size 32M --drive-acknowledge-abuse --log-file=log_rclone.txt \"src023:\" \"dst023:\" &\n",
            ">> Let us go dst023: 16:01:04\n",
            "dst023: 737GB Done @ 5638.444181MB/s | checks: 8674 files\n",
            "                     16:19:45\n",
            "\n",
            "\n",
            "rclone --config ./rclone.conf copy --drive-server-side-across-configs --rc --rc-addr=\"localhost:5572\" -vv --ignore-existing --tpslimit 3 --transfers 3 --drive-chunk-size 32M --drive-acknowledge-abuse --log-file=log_rclone.txt \"src024:\" \"dst024:\" &\n",
            ">> Let us go dst024: 16:19:45\n",
            "dst024: 736GB Done @ 8675.695747MB/s | checks: 9002 files\n",
            "                     16:40:38\n",
            "\n",
            "\n",
            "rclone --config ./rclone.conf copy --drive-server-side-across-configs --rc --rc-addr=\"localhost:5572\" -vv --ignore-existing --tpslimit 3 --transfers 3 --drive-chunk-size 32M --drive-acknowledge-abuse --log-file=log_rclone.txt \"src025:\" \"dst025:\" &\n",
            ">> Let us go dst025: 16:40:38\n",
            "dst025: 735GB Done @ 47163.593786MB/s | checks: 9543 files\n",
            "                     17:01:37\n",
            "\n",
            "\n",
            "rclone --config ./rclone.conf copy --drive-server-side-across-configs --rc --rc-addr=\"localhost:5572\" -vv --ignore-existing --tpslimit 3 --transfers 3 --drive-chunk-size 32M --drive-acknowledge-abuse --log-file=log_rclone.txt \"src026:\" \"dst026:\" &\n",
            ">> Let us go dst026: 17:01:37\n",
            "dst026: 736GB Done @ 9231.205734MB/s | checks: 9740 files\n",
            "                     17:28:53\n",
            "\n",
            "\n",
            "rclone --config ./rclone.conf copy --drive-server-side-across-configs --rc --rc-addr=\"localhost:5572\" -vv --ignore-existing --tpslimit 3 --transfers 3 --drive-chunk-size 32M --drive-acknowledge-abuse --log-file=log_rclone.txt \"src027:\" \"dst027:\" &\n",
            ">> Let us go dst027: 17:28:53\n",
            "dst027: 736GB Done @ 5587.481765MB/s | checks: 10014 files\n",
            "                     17:58:21\n",
            "\n",
            "\n",
            "rclone --config ./rclone.conf copy --drive-server-side-across-configs --rc --rc-addr=\"localhost:5572\" -vv --ignore-existing --tpslimit 3 --transfers 3 --drive-chunk-size 32M --drive-acknowledge-abuse --log-file=log_rclone.txt \"src028:\" \"dst028:\" &\n",
            ">> Let us go dst028: 17:58:21\n"
          ],
          "name": "stdout"
        }
      ]
    },
    {
      "cell_type": "markdown",
      "metadata": {
        "colab_type": "text",
        "id": "NKQKbbO5jC8f"
      },
      "source": [
        "### Các tính năng bổ sung (kiểm tra kích thước và số lượng tài nguyên)"
      ]
    },
    {
      "cell_type": "code",
      "metadata": {
        "colab_type": "code",
        "cellView": "form",
        "id": "XWWAn0uujC8j",
        "colab": {}
      },
      "source": [
        "#@markdown <h4><b>←</b> Kiểm Tra Kích Thước Folder Gốc</h3> \n",
        "!rclone --config rclone.conf size --disable ListR src001:"
      ],
      "execution_count": null,
      "outputs": []
    },
    {
      "cell_type": "code",
      "metadata": {
        "colab_type": "code",
        "cellView": "form",
        "id": "LsChZJ2FjC8y",
        "colab": {}
      },
      "source": [
        "#@markdown <h4><b>←</b> Kiểm Tra Kích Thước Folder Đích Sau Khi Copy</h3> \n",
        "!rclone --config rclone.conf size --disable ListR dst001:"
      ],
      "execution_count": null,
      "outputs": []
    },
    {
      "cell_type": "code",
      "metadata": {
        "colab_type": "code",
        "cellView": "form",
        "id": "bNcxDO0AMSkk",
        "colab": {}
      },
      "source": [
        "#@markdown <h4><b>←</b> Kiểm Tra Tệp Trùng Lặp Sau Khi Copy</h3> \n",
        "!rclone --config rclone.conf dedupe dst001:"
      ],
      "execution_count": null,
      "outputs": []
    },
    {
      "cell_type": "markdown",
      "metadata": {
        "id": "Z-0L1Mousoom",
        "colab_type": "text"
      },
      "source": [
        "###<font size=4 color=\"red\"><b><center>Khi bạn chạy nó lần đầu tiên, vui lòng sao lưu SA(backup),Lần tới, bạn chỉ cần định cấu hình môi trường ở bước 1 và 3(upload - credentials.json）Đặt Services Account giảm (restore)để khôi phục Tài khoản dịch vụ về môi trường cấu hình </center></b></font>"
      ]
    },
    {
      "cell_type": "code",
      "metadata": {
        "id": "Ws2rOO0NCyks",
        "colab_type": "code",
        "cellView": "form",
        "colab": {}
      },
      "source": [
        "#@markdown <h3>← Nhập Project ID Như Hình Và Chạy - Download Key Từ Project\n",
        "\n",
        "#@markdown ![](https://i.imgur.com/6kdw2u9.jpg)\n",
        "\n",
        "\n",
        "#@markdown <h4><b>Dán Project ID vào dưới đây:</b>\n",
        "\n",
        "projectid = \"\" #@param {type:\"string\"}\n",
        "!python3 gen_sa_accounts.py --download-keys \"$projectid\""
      ],
      "execution_count": null,
      "outputs": []
    },
    {
      "cell_type": "code",
      "metadata": {
        "id": "_1pqEmj2nR3_",
        "colab_type": "code",
        "cellView": "form",
        "colab": {
          "base_uri": "https://localhost:8080/",
          "height": 139
        },
        "outputId": "cd512d5f-ec00-4b60-a168-d68f220d7a4f"
      },
      "source": [
        "#@markdown <br><center><img src='https://upload.wikimedia.org/wikipedia/commons/thumb/d/da/Google_Drive_logo.png/600px-Google_Drive_logo.png' height=\"50\" alt=\"Gdrive logo\"/></center>\n",
        "#@markdown <center><h3>Tải bản sao lưu Google Drive và khôi phục thư mục Account trong Autoclone。</h3></center><br>\n",
        "\n",
        "from google.colab import drive\n",
        "drive.mount('/content/drive')\n",
        "\n",
        "MODE = \"RESTORE\" #@param [\"BACKUP\", \"RESTORE\"]\n",
        "#备份SA!\n",
        "if MODE == \"BACKUP\": \n",
        "  !rclone copy \"/content/AutoRclone/accounts/\" \"/content/drive/My Drive/accounts/\"\n",
        "elif MODE == \"RESTORE\":\n",
        "  !rclone copy \"/content/drive/My Drive/accounts/\" \"/content/AutoRclone/accounts/\""
      ],
      "execution_count": null,
      "outputs": [
        {
          "output_type": "stream",
          "text": [
            "Go to this URL in a browser: https://accounts.google.com/o/oauth2/auth?client_id=947318989803-6bn6qk8qdgf4n4g3pfee6491hc0brc4i.apps.googleusercontent.com&redirect_uri=urn%3aietf%3awg%3aoauth%3a2.0%3aoob&scope=email%20https%3a%2f%2fwww.googleapis.com%2fauth%2fdocs.test%20https%3a%2f%2fwww.googleapis.com%2fauth%2fdrive%20https%3a%2f%2fwww.googleapis.com%2fauth%2fdrive.photos.readonly%20https%3a%2f%2fwww.googleapis.com%2fauth%2fpeopleapi.readonly&response_type=code\n",
            "\n",
            "Enter your authorization code:\n",
            "··········\n",
            "Mounted at /content/drive\n",
            "2020/08/17 09:02:32 NOTICE: Config file \"/root/.config/rclone/rclone.conf\" not found - using defaults\n"
          ],
          "name": "stdout"
        }
      ]
    },
    {
      "cell_type": "markdown",
      "metadata": {
        "id": "K6yDnWXvlxfb",
        "colab_type": "text"
      },
      "source": [
        "### <font size=5px color=\"purple\"><b><center> ✧  Chuyển đổi sửa đổi ma thuật nâng cao Gclone hỗ trợ tự động chuyển đổi SA, hỗ trợ {Folder id}, theo sau là đường dẫn tiếp theo, chẳng hạn như {TeamDrive id}/media/xxx /</center></h6>"
      ]
    },
    {
      "cell_type": "code",
      "metadata": {
        "id": "TxEYMYh0hMU6",
        "colab_type": "code",
        "cellView": "form",
        "colab": {}
      },
      "source": [
        "#@title  ←  Cài đặt cấu hình môi trường Gclone\n",
        "!bash <(wget -qO- https://git.io/gclone.sh)"
      ],
      "execution_count": null,
      "outputs": []
    },
    {
      "cell_type": "code",
      "metadata": {
        "id": "2y9lJItbhbOy",
        "colab_type": "code",
        "cellView": "form",
        "colab": {}
      },
      "source": [
        "!gclone config\n",
        "\n",
        "#@markdown <p><b><h3><center> Chỉ cần cấu hình một lần đầu tiên, sau khi sao lưu, chỉ cần khôi phục bằng một cú nhấp chuột </b></center> </p>\n",
        "#@markdown <p>- Bước 1 : là chọn n, sau đó đặt cho remote một tên mới.<font color=red>\"Tên này sẽ được sử dụng khi sao chép sau \"</font> </p>\n",
        "#@markdown <p>- Bước 2 : chọn 13, client_id và client_secret không được điền theo mặc định。</p>\n",
        "#@markdown <p>- Bước 3 : chọn scope và điền vào 1, root_folder_id không được điền theo mặc định。</p>\n",
        "#@markdown <p>- Bước 4 : mở thư mục colab ở bên trái, tìm bất kỳ tệp json nào trong Autorclone / tài khoản và nhấp chuột phải vào đường dẫn sao chép. </p>Ví dụ = /content/AutoRclone/accounts/02d62cb52b2ac72d2c78c5b1b529b202ac1a1a </p>\n",
        "#@markdown <p>- Bước 5 : service_account_file_path> Điền vào /content/AutoRclone/accounts/ </p>\n",
        "#@markdown <p>- Bước 6 : Edit advanced config? (y/n) Chọn n .</p>\n",
        "#@markdown <p>- Bước 7 : Configure this as a team drive? Chọn y ."
      ],
      "execution_count": null,
      "outputs": []
    },
    {
      "cell_type": "code",
      "metadata": {
        "id": "lUyZKS7chofc",
        "colab_type": "code",
        "cellView": "form",
        "colab": {}
      },
      "source": [
        "#@markdown <h1> <p><b><center><font color=\"pink\">Bắt đầu sao chép với Gclone</center></h>\n",
        "name = \"\" #@param {type:\"string\"}\n",
        "source = \"\" #@param {type:\"string\"}\n",
        "destination = \"\" #@param {type:\"string\"}\n",
        "folder = \"\" #@param {type:\"string\"}\n",
        "cmd = f\"gclone copy {name}:{{{source}}} {name}:{{{destination}}}{folder} --drive-server-side-across-configs --transfers 30 -v\"\n",
        "!$cmd\n",
        "#@markdown <p>- name là tên của Remote trong cài đặt gclone\n",
        "#@markdown <p>- định dạng thư mục sẽ được lưu là /phim/nội địa/Bộ sưu tập Thành Long Không có khoảng trắng được cho phép..</p>\n",
        "#@markdown <p>- Nếu bạn sợ mất tập tin, hãy thực hiện nó một hoặc hai lần và tự động bỏ qua các tài nguyên hiện có。</p>"
      ],
      "execution_count": null,
      "outputs": []
    },
    {
      "cell_type": "code",
      "metadata": {
        "id": "J6UD7xAr1Mte",
        "colab_type": "code",
        "cellView": "form",
        "colab": {}
      },
      "source": [
        "#@markdown <h3><b>←</b> Kiểm tra kích thước thư mục</h3>\n",
        "name = \"\" #@param {type:\"string\"}\n",
        "id = \"\" #@param {type:\"string\"}\n",
        "cmd = f\"gclone size {name}:{{{id}}} --disable listr --transfers 10\"\n",
        "!$cmd\n",
        "#@markdown <p>- name là tên của Remote trong cài đặt gclone\n",
        "#@markdown <p>- id có thể là id thư mục nguồn được chia sẻ hoặc id thư mục đã được sao chép"
      ],
      "execution_count": null,
      "outputs": []
    },
    {
      "cell_type": "code",
      "metadata": {
        "id": "sDwfInCbMVsL",
        "colab_type": "code",
        "cellView": "form",
        "colab": {}
      },
      "source": [
        "#@markdown <h3> <p><center>Công Cụ Kiểm Tra Tệp Trùng Lặp Gclone</center></h>\n",
        "name = \"\" #@param {type:\"string\"}\n",
        "id = \"\" #@param {type:\"string\"}\n",
        "cmd = f\"gclone dedupe newest {name}:{{{id}}} --drive-server-side-across-configs --disable listr -v --tpslimit 5\"\n",
        "!$cmd\n",
        "#@markdown <p>- name là tên của Remote trong cài đặt gclone\n",
        "#@markdown <p>- id có thể là id thư mục nguồn được chia sẻ hoặc id thư mục đã được sao chép.</p>"
      ],
      "execution_count": null,
      "outputs": []
    },
    {
      "cell_type": "code",
      "metadata": {
        "id": "cy_hNQxHn-jO",
        "colab_type": "code",
        "cellView": "form",
        "colab": {}
      },
      "source": [
        "#@markdown <br><center></center>\n",
        "#@markdown <center><h3>Sao lưu và khôi phục tập tin cấu hình Gclone bằng một cú nhấp chuột <p> <font color=\"red\">Sau khi khôi phục, không cần phải config lại </font></h3></center><br>\n",
        "\n",
        "from google.colab import drive\n",
        "drive.mount('/content/drive')\n",
        "\n",
        "MODE = \"RESTORE\" #@param [\"BACKUP\", \"RESTORE\"]\n",
        "#备份SA!\n",
        "if MODE == \"BACKUP\": \n",
        "  !rclone copy \"/root/.config/rclone/rclone.conf\" \"/content/drive/My Drive/gclone/\"\n",
        "elif MODE == \"RESTORE\":\n",
        "  !rclone copy \"/content/drive/My Drive/gclone/\" \"/root/.config/rclone/\""
      ],
      "execution_count": null,
      "outputs": []
    }
  ]
}